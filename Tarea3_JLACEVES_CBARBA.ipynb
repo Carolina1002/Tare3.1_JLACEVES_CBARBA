{
 "cells": [
  {
   "cell_type": "markdown",
   "metadata": {},
   "source": [
    "<img style=\"float: left; margin: 30px 15px 15px 15px;\" src=\"https://pngimage.net/wp-content/uploads/2018/06/logo-iteso-png-5.png\" width=\"300\" height=\"500\" /> \n",
    "    \n",
    "    \n",
    "### <font color='navy'> Simulación de procesos financieros. \n",
    "\n",
    "**Nombres:** Carolina Anaya Barba, José Leonardo Aceves (líder)\n",
    "\n",
    "**Fecha:** 13 de septiembre 2021\n",
    "\n",
    "**Expediente** : 712626 y .\n",
    "**Profesor:** Oscar David Jaramillo Zuluaga.\n",
    "    \n",
    "**Link Github**: https://github.com/leonardoaceves/Tare3.1_JLACEVES_CBARBA.git\n",
    "\n",
    "# Tarea 3: Clase 6"
   ]
  },
  {
   "cell_type": "markdown",
   "metadata": {},
   "source": [
    " ## Tarea 3: (Usando notebook de jupyter)** \n",
    "\n",
    " Usando compresión de listas o funciones map(sino recuerda como funciona observar el siguiente enlace https://www.pythonforbeginners.com/lists/list-comprehensions-in-python/), resolver los siguientes ejercicios:\n",
    "\n",
    "1. Resolver la siguiente ecuación recursiva usando funciones como se vió en clase\n",
    "$$ D_{n}=(n-1) D_{n-1}+(n-1) D_{n-2} \\quad n\\ge 3$$\n",
    "con $D_1=0$ y $D_2 = 1$\n",
    "3. Count the number of spaces in the following string `variable =  relaciónn  requiere,  para obtener  el  valor  de un  cierto  término,  el conocimiento de los dos anteriores`.\n",
    "4. Remove all of the vowels in a string [make a list of the non-vowels].\n",
    "5. Find all of the words in a string that are less than 4 letters.\n",
    "6. Use a dictionary comprehension to count the length of each word in a sentence.\n",
    "7. Use a nested list comprehension to find all of the numbers from 1-1000 that are divisible by any single digit besides 1 (2-9). "
   ]
  },
  {
   "cell_type": "markdown",
   "metadata": {},
   "source": [
    "### Ejercicio 1"
   ]
  },
  {
   "cell_type": "markdown",
   "metadata": {},
   "source": [
    "Código de solución estudiante 1"
   ]
  },
  {
   "cell_type": "code",
   "execution_count": null,
   "metadata": {},
   "outputs": [],
   "source": [
    "# Código de solución Leonardo\n"
   ]
  },
  {
   "cell_type": "markdown",
   "metadata": {},
   "source": [
    "Código de solución estudiante 2"
   ]
  },
  {
   "cell_type": "code",
   "execution_count": 6,
   "metadata": {},
   "outputs": [
    {
     "data": {
      "text/plain": [
       "array([  0.,   1.,   2.,   9.,  44., 265.])"
      ]
     },
     "execution_count": 6,
     "metadata": {},
     "output_type": "execute_result"
    }
   ],
   "source": [
    "# Código de solución estudiante 2\n",
    "import numpy as np\n",
    "def fun(n: \"\"):\n",
    "    D = np.zeros(n)\n",
    "    D[0], D[1] = 0,1\n",
    "    \n",
    "    def fun2(i):\n",
    "        nonlocal D\n",
    "        D[i-1] = (i-1) * (D[i-2]) + (i-1) * (D[i-3])\n",
    "    [fun2(x) for x in range(3, n+1)]\n",
    "    \n",
    "    return D\n",
    "\n",
    "r(6)"
   ]
  },
  {
   "cell_type": "markdown",
   "metadata": {},
   "source": [
    "### Ejercicio 2"
   ]
  },
  {
   "cell_type": "code",
   "execution_count": 9,
   "metadata": {},
   "outputs": [
    {
     "name": "stdout",
     "output_type": "stream",
     "text": [
      "No. de espacios:  23\n",
      "No. de espacios:  10\n"
     ]
    }
   ],
   "source": [
    "# Código de solución Leonardo\n",
    "#3. Count the number of spaces in the following string \n",
    "variable =  'relaciónn  requiere,  para obtener  el  valor  de un  cierto  término,  el conocimiento de los dos anteriores.'\n",
    "variable2 = 'Este es un    ejemplo con 10  ejemplos'\n",
    "#Create function\n",
    "def check_space(string):\n",
    "    # counter\n",
    "    count = 0\n",
    "    for i in range(0, len(string)):\n",
    "        if string[i] == \" \":\n",
    "            count += 1\n",
    "    return count\n",
    "#Results\n",
    "print(\"No. de espacios: \", check_space(variable))\n",
    "print(\"No. de espacios: \", check_space(variable2))"
   ]
  },
  {
   "cell_type": "code",
   "execution_count": 9,
   "metadata": {},
   "outputs": [
    {
     "data": {
      "text/plain": [
       "23"
      ]
     },
     "execution_count": 9,
     "metadata": {},
     "output_type": "execute_result"
    }
   ],
   "source": [
    "# Código de solución estudiante 2\n",
    "spaces = \"relación  requiere  para obtener  el  valor  de un  cierto  término  el conocimiento de los dos anteriores\"\n",
    "len([words for words in spaces if words == \" \"])"
   ]
  },
  {
   "cell_type": "markdown",
   "metadata": {},
   "source": [
    "### Ejercicio 3"
   ]
  },
  {
   "cell_type": "code",
   "execution_count": 10,
   "metadata": {},
   "outputs": [
    {
     "name": "stdout",
     "output_type": "stream",
     "text": [
      "rlcónn  rqr,  pr btnr  l  vlr  d n  crt  térmn,  l cncmnt d ls ds ntrrs.\n"
     ]
    }
   ],
   "source": [
    "# Código de solución Leonardo\n",
    "#Remove all of the vowels in a string [make a list of the non-vowels].\n",
    "variable =  'relaciónn  requiere,  para obtener  el  valor  de un  cierto  término,  el conocimiento de los dos anteriores.'\n",
    "variable2 = 'Este es un    ejemplo con 10  ejemplos'\n",
    "def rem_vowels(string):\n",
    "    vowels = ['a','e','i','o','u']\n",
    "    result = [letter for letter in string if letter.lower() not in vowels]\n",
    "    result = ''.join(result)\n",
    "    return(result)\n",
    "print(rem_vowels(variable))"
   ]
  },
  {
   "cell_type": "code",
   "execution_count": 17,
   "metadata": {},
   "outputs": [
    {
     "data": {
      "text/plain": [
       "['r',\n",
       " 'l',\n",
       " 'c',\n",
       " 'n',\n",
       " 'n',\n",
       " ' ',\n",
       " ' ',\n",
       " 'r',\n",
       " 'q',\n",
       " 'r',\n",
       " ',',\n",
       " ' ',\n",
       " ' ',\n",
       " 'p',\n",
       " 'r',\n",
       " ' ',\n",
       " 'b',\n",
       " 't',\n",
       " 'n',\n",
       " 'r',\n",
       " ' ',\n",
       " ' ',\n",
       " 'l',\n",
       " ' ',\n",
       " ' ',\n",
       " 'v',\n",
       " 'l',\n",
       " 'r',\n",
       " ' ',\n",
       " ' ',\n",
       " 'd',\n",
       " ' ',\n",
       " 'n',\n",
       " ' ',\n",
       " ' ',\n",
       " 'c',\n",
       " 'r',\n",
       " 't',\n",
       " ' ',\n",
       " ' ',\n",
       " 't',\n",
       " 'r',\n",
       " 'm',\n",
       " 'n',\n",
       " ',',\n",
       " ' ',\n",
       " ' ',\n",
       " 'l',\n",
       " ' ',\n",
       " 'c',\n",
       " 'n',\n",
       " 'c',\n",
       " 'm',\n",
       " 'n',\n",
       " 't',\n",
       " ' ',\n",
       " 'd',\n",
       " ' ',\n",
       " 'l',\n",
       " 's',\n",
       " ' ',\n",
       " 'd',\n",
       " 's',\n",
       " ' ',\n",
       " 'n',\n",
       " 't',\n",
       " 'r',\n",
       " 'r',\n",
       " 's']"
      ]
     },
     "execution_count": 17,
     "metadata": {},
     "output_type": "execute_result"
    }
   ],
   "source": [
    "# Código de solución estudiante 2\n",
    "\n",
    "string = \"relaciónn  requiere,  para obtener  el  valor  de un  cierto  término,  el conocimiento de los dos anteriores\"\n",
    "[word for word in string if word not in \"AaÁáEeÉéIiÍíOoÓóUuÚú\"]"
   ]
  },
  {
   "cell_type": "markdown",
   "metadata": {},
   "source": [
    "### Ejercicio 4"
   ]
  },
  {
   "cell_type": "code",
   "execution_count": 11,
   "metadata": {},
   "outputs": [
    {
     "name": "stdout",
     "output_type": "stream",
     "text": [
      "Less than 4 letters:  ['relaciónn', 'requiere,', 'para', 'obtener', 'valor', 'cierto', 'término,', 'conocimiento', 'anteriores.']\n"
     ]
    }
   ],
   "source": [
    "# Código de solución estudiante Leonardo\n",
    "#Find all of the words in a string that are less than 4 letters.\n",
    "def four_letters(string):\n",
    "    evaluation = string.split()\n",
    "    result = [word for word in evaluation if len(word) >=4]\n",
    "    return(result)\n",
    "print(\"Less than 4 letters: \", four_letters(variable))"
   ]
  },
  {
   "cell_type": "code",
   "execution_count": 18,
   "metadata": {},
   "outputs": [
    {
     "data": {
      "text/plain": [
       "['el', 'de', 'un', 'el', 'de', 'los', 'dos']"
      ]
     },
     "execution_count": 18,
     "metadata": {},
     "output_type": "execute_result"
    }
   ],
   "source": [
    "# Código de solución estudiante 2\n",
    "\n",
    "string2 = \"relaciónn  requiere,  para obtener  el  valor  de un  cierto  término,  el conocimiento de los dos anteriores\"\n",
    "texto = string2.split()\n",
    "list(filter(lambda x: len(x)<4, texto)) "
   ]
  },
  {
   "cell_type": "markdown",
   "metadata": {},
   "source": [
    "### Ejercicio 5"
   ]
  },
  {
   "cell_type": "code",
   "execution_count": 12,
   "metadata": {},
   "outputs": [
    {
     "name": "stdout",
     "output_type": "stream",
     "text": [
      "Lenght in each word:  [9, 9, 4, 7, 2, 5, 2, 2, 6, 8, 2, 12, 2, 3, 3, 11]\n"
     ]
    }
   ],
   "source": [
    "# Código de solución Leonardo\n",
    "#Use a dictionary comprehension to count the length of each word in a sentence.\n",
    "def len_words(string):\n",
    "    solution = [len(x) for x in string.split()]\n",
    "    return(solution)\n",
    "print(\"Lenght in each word: \", len_words(variable))"
   ]
  },
  {
   "cell_type": "code",
   "execution_count": 20,
   "metadata": {},
   "outputs": [
    {
     "data": {
      "text/plain": [
       "{'relaciónn': 9,\n",
       " 'requiere,': 9,\n",
       " 'para': 4,\n",
       " 'obtener': 7,\n",
       " 'el': 2,\n",
       " 'valor': 5,\n",
       " 'de': 2,\n",
       " 'un': 2,\n",
       " 'cierto': 6,\n",
       " 'término,': 8,\n",
       " 'conocimiento': 12,\n",
       " 'los': 3,\n",
       " 'dos': 3,\n",
       " 'anteriores': 10}"
      ]
     },
     "execution_count": 20,
     "metadata": {},
     "output_type": "execute_result"
    }
   ],
   "source": [
    "# Código de solución estudiante 2\n",
    "dic = \"relaciónn  requiere,  para obtener  el  valor  de un  cierto  término,  el conocimiento de los dos anteriores\"\n",
    "{word: len(word) for word in dic.split()}"
   ]
  },
  {
   "cell_type": "markdown",
   "metadata": {},
   "source": [
    "### Ejercicio 6"
   ]
  },
  {
   "cell_type": "code",
   "execution_count": 21,
   "metadata": {},
   "outputs": [
    {
     "name": "stdout",
     "output_type": "stream",
     "text": [
      "[1, 2, 3, 4, 5, 6, 7, 8, 9, 5, 1, 6, 1, 7, 5, 8, 1, 9, 1, 5, 7, 2, 1, 8, 5, 2, 9, 7, 1, 6, 1, 8, 3, 2, 7, 9, 1, 2, 3, 8, 1, 7, 1, 4, 9, 2, 1, 8, 7, 5, 3, 4, 1, 9, 5, 8, 3, 2, 1, 6, 1, 2, 9, 8, 5, 6, 1, 4, 3, 7, 1, 9, 1, 2, 5, 4, 7, 6, 1, 8, 9, 2, 1, 7, 5, 2, 3, 8, 1, 9, 7, 4, 3, 2, 5, 8, 1, 7, 9, 5, 1, 6, 1, 8, 7, 2, 1, 9, 1, 5, 3, 8, 1, 6, 5, 4, 9, 2, 7, 8, 1, 2, 3, 4, 5, 9, 1, 8, 3, 5, 1, 6, 7, 2, 9, 8, 1, 6, 1, 7, 3, 2, 1, 9, 5, 2, 7, 4, 1, 6, 1, 8, 9, 7, 5, 6, 1, 2, 3, 8, 7, 9, 1, 4, 5, 2, 1, 8, 1, 5, 9, 4, 1, 6, 7, 8, 3, 2, 1, 9, 1, 7, 3, 8, 5, 6, 1, 4, 9, 5, 1, 8, 1, 2, 5, 7, 1, 9, 1, 8, 3, 2, 7, 6, 5, 2, 9, 8, 1, 7, 1, 4, 3, 2, 5, 9, 7, 2, 3, 5, 1, 6, 1, 8, 9, 2, 1, 6, 1, 5, 7, 8, 1, 9, 5, 4, 3, 7, 1, 8, 1, 2, 9, 4, 7, 6, 1, 8, 3, 5, 1, 9, 1, 2, 5, 8, 1, 6, 7, 5, 9, 2, 1, 8, 5, 7, 3, 4, 1, 9, 1, 8, 7, 2, 5, 6, 1, 2, 9, 8, 1, 6, 1, 4, 5, 2, 7, 9, 1, 5, 3, 4, 1, 7, 5, 8, 9, 2, 1, 6, 7, 2, 3, 8, 5, 9, 1, 7, 3, 5, 1, 8, 1, 2, 9, 4, 1, 6, 1, 8, 3, 7, 1, 9, 5, 2, 3, 8, 7, 6, 1, 4, 9, 2, 5, 8, 1, 2, 3, 5, 1, 9, 7, 8, 5, 2, 1, 6, 1, 7, 9, 8, 1, 6, 5, 4, 7, 2, 1, 9, 1, 2, 3, 7, 5, 6, 1, 8, 9, 5, 7, 6, 1, 2, 5, 8, 1, 9, 1, 5, 3, 2, 1, 8, 7, 2, 9, 4, 1, 6, 1, 8, 3, 2, 5, 9, 1, 2, 7, 8, 1, 6, 1, 4, 9, 7, 1, 8, 1, 5, 3, 4, 7, 9, 5, 8, 3, 2, 1, 7, 1, 2, 9, 8, 5, 6, 7, 4, 3, 5, 1, 9, 1, 7, 5, 4, 1, 6, 1, 8, 9, 2, 1, 6, 5, 2, 3, 8, 1, 9, 1, 4, 3, 2, 7, 8, 1, 2, 9, 5, 1, 7, 1, 8, 5, 2, 1, 9, 7, 5, 3, 8, 1, 6, 5, 7, 9, 2, 1, 8, 1, 2, 7, 4, 5, 9, 1, 8, 3, 7, 1, 6, 1, 2, 9, 8, 7, 6, 1, 5, 3, 2, 1, 9, 5, 2, 3, 4, 1, 6, 7, 8, 9, 2, 5, 6, 1, 7, 3, 8, 1, 9, 1, 4, 7, 2, 1, 8, 1, 5, 9, 7, 1, 6, 5, 8, 3, 2, 7, 9, 1, 2, 3, 8, 5, 7, 1, 4, 9, 5, 1, 8, 7, 2, 5, 4, 1, 9, 1, 8, 3, 2, 1, 6, 5, 2, 9, 8, 1, 6, 1, 4, 3, 7, 5, 9, 1, 2, 3, 5, 7, 6, 1, 8, 9, 2, 1, 7, 1, 5, 3, 8, 1, 9, 7, 4, 3, 2, 1, 8, 1, 7, 9, 4, 5, 6, 1, 8, 7, 5, 1, 9, 1, 2, 5, 8, 1, 6, 1, 5, 9, 2, 7, 8, 5, 2, 3, 4, 1, 9, 1, 8, 3, 2, 5, 6, 7, 2, 9, 8, 1, 6, 1, 7, 5, 2, 1, 9, 1, 5, 7, 4, 1, 6, 5, 8, 9, 7, 1, 6, 1, 2, 3, 8, 7, 9, 1, 4, 3, 5, 1, 8, 1, 2, 9, 4, 1, 6, 7, 8, 3, 2, 1, 9, 5, 7, 3, 8, 1, 6, 1, 4, 9, 2, 5, 8, 1, 2, 3, 7, 1, 9, 1, 8, 5, 2, 7, 6, 1, 5, 9, 8, 1, 7, 5, 4, 3, 2, 1, 9, 7, 2, 3, 4, 5, 6, 1, 8, 9, 5, 1, 6, 1, 2, 7, 8, 1, 9, 1, 5, 3, 7, 1, 8, 5, 2, 9, 4, 7, 6, 1, 8, 3, 2, 5, 9, 1, 2, 3, 8, 1, 6, 7, 4, 9, 2, 1, 8, 1, 7, 3, 4, 1, 9, 5, 8, 7, 2, 1, 6, 1, 2, 9, 8, 5, 6, 1, 4, 3, 5, 7, 9, 1, 2, 5, 4, 1, 7, 1, 8, 9, 2, 1, 6, 7, 2, 3, 8, 1, 9, 1, 7, 3, 2, 5, 8, 1, 2, 9, 5, 1, 6, 1, 8, 5, 7, 1, 9, 1, 5, 3, 8, 7, 6, 5, 4, 9, 2, 1, 8, 1, 2, 3, 4, 5, 9, 7, 8, 3, 5, 1, 6, 1, 7, 9, 8, 1, 6, 1, 5, 7, 2, 1, 9, 5, 2, 3, 7, 1, 6, 1, 8, 9, 2, 7, 6, 1, 2, 3, 8, 1, 9, 1, 4, 5, 2, 1, 8, 7, 5, 9, 4, 1, 6, 5, 8, 3, 2, 1, 9, 1, 2, 7, 8, 5, 6, 1, 4, 9, 7, 1, 8, 1, 2, 5, 4, 7, 9, 1, 8, 3, 2, 1, 7, 5, 2, 9, 8, 1, 6, 7, 4, 3, 2, 5, 9, 1, 7, 3, 5, 1, 6, 1, 8, 9, 2, 1, 6, 1, 5, 3, 8, 1, 9, 5, 4, 3, 2, 7, 8, 1, 2, 9, 4, 5, 7, 1, 8, 3, 5, 1, 9, 7, 2, 5, 8, 1, 6, 1, 7, 9, 2, 1, 8, 5, 2, 7, 4, 1, 9, 1, 8, 3, 7, 5, 6, 1, 2, 9, 8]\n"
     ]
    }
   ],
   "source": [
    "# Código de solución estudiante Leonardo\n",
    "#Use a nested list comprehension to find all of the numbers from 1-1000 that are divisible by \n",
    "#any single digit besides 1 (2-9).\n",
    "results = [max([divisor for divisor in range(1,10) if number % divisor == 0]) for number in range(1,1001) ]\n",
    "print(results)"
   ]
  },
  {
   "cell_type": "code",
   "execution_count": 25,
   "metadata": {},
   "outputs": [
    {
     "name": "stdout",
     "output_type": "stream",
     "text": [
      "[2, 3, 4, 5, 6, 7, 8, 9, 10, 12, 14, 15, 16, 18, 20, 21, 22, 24, 25, 26, 27, 28, 30, 32, 33, 34, 35, 36, 38, 39, 40, 42, 44, 45, 46, 48, 49, 50, 51, 52, 54, 55, 56, 57, 58, 60, 62, 63, 64, 65, 66, 68, 69, 70, 72, 74, 75, 76, 77, 78, 80, 81, 82, 84, 85, 86, 87, 88, 90, 91, 92, 93, 94, 95, 96, 98, 99, 100, 102, 104, 105, 106, 108, 110, 111, 112, 114, 115, 116, 117, 118, 119, 120, 122, 123, 124, 125, 126, 128, 129, 130, 132, 133, 134, 135, 136, 138, 140, 141, 142, 144, 145, 146, 147, 148, 150, 152, 153, 154, 155, 156, 158, 159, 160, 161, 162, 164, 165, 166, 168, 170, 171, 172, 174, 175, 176, 177, 178, 180, 182, 183, 184, 185, 186, 188, 189, 190, 192, 194, 195, 196, 198, 200, 201, 202, 203, 204, 205, 206, 207, 208, 210, 212, 213, 214, 215, 216, 217, 218, 219, 220, 222, 224, 225, 226, 228, 230, 231, 232, 234, 235, 236, 237, 238, 240, 242, 243, 244, 245, 246, 248, 249, 250, 252, 254, 255, 256, 258, 259, 260, 261, 262, 264, 265, 266, 267, 268, 270, 272, 273, 274, 275, 276, 278, 279, 280, 282, 284, 285, 286, 287, 288, 290, 291, 292, 294, 295, 296, 297, 298, 300, 301, 302, 303, 304, 305, 306, 308, 309, 310, 312, 314, 315, 316, 318, 320, 321, 322, 324, 325, 326, 327, 328, 329, 330, 332, 333, 334, 335, 336, 338, 339, 340, 342, 343, 344, 345, 346, 348, 350, 351, 352, 354, 355, 356, 357, 358, 360, 362, 363, 364, 365, 366, 368, 369, 370, 371, 372, 374, 375, 376, 378, 380, 381, 382, 384, 385, 386, 387, 388, 390, 392, 393, 394, 395, 396, 398, 399, 400, 402, 404, 405, 406, 408, 410, 411, 412, 413, 414, 415, 416, 417, 418, 420, 422, 423, 424, 425, 426, 427, 428, 429, 430, 432, 434, 435, 436, 438, 440, 441, 442, 444, 445, 446, 447, 448, 450, 452, 453, 454, 455, 456, 458, 459, 460, 462, 464, 465, 466, 468, 469, 470, 471, 472, 474, 475, 476, 477, 478, 480, 482, 483, 484, 485, 486, 488, 489, 490, 492, 494, 495, 496, 497, 498, 500, 501, 502, 504, 505, 506, 507, 508, 510, 511, 512, 513, 514, 515, 516, 518, 519, 520, 522, 524, 525, 526, 528, 530, 531, 532, 534, 535, 536, 537, 538, 539, 540, 542, 543, 544, 545, 546, 548, 549, 550, 552, 553, 554, 555, 556, 558, 560, 561, 562, 564, 565, 566, 567, 568, 570, 572, 573, 574, 575, 576, 578, 579, 580, 581, 582, 584, 585, 586, 588, 590, 591, 592, 594, 595, 596, 597, 598, 600, 602, 603, 604, 605, 606, 608, 609, 610, 612, 614, 615, 616, 618, 620, 621, 622, 623, 624, 625, 626, 627, 628, 630, 632, 633, 634, 635, 636, 637, 638, 639, 640, 642, 644, 645, 646, 648, 650, 651, 652, 654, 655, 656, 657, 658, 660, 662, 663, 664, 665, 666, 668, 669, 670, 672, 674, 675, 676, 678, 679, 680, 681, 682, 684, 685, 686, 687, 688, 690, 692, 693, 694, 695, 696, 698, 699, 700, 702, 704, 705, 706, 707, 708, 710, 711, 712, 714, 715, 716, 717, 718, 720, 721, 722, 723, 724, 725, 726, 728, 729, 730, 732, 734, 735, 736, 738, 740, 741, 742, 744, 745, 746, 747, 748, 749, 750, 752, 753, 754, 755, 756, 758, 759, 760, 762, 763, 764, 765, 766, 768, 770, 771, 772, 774, 775, 776, 777, 778, 780, 782, 783, 784, 785, 786, 788, 789, 790, 791, 792, 794, 795, 796, 798, 800, 801, 802, 804, 805, 806, 807, 808, 810, 812, 813, 814, 815, 816, 818, 819, 820, 822, 824, 825, 826, 828, 830, 831, 832, 833, 834, 835, 836, 837, 838, 840, 842, 843, 844, 845, 846, 847, 848, 849, 850, 852, 854, 855, 856, 858, 860, 861, 862, 864, 865, 866, 867, 868, 870, 872, 873, 874, 875, 876, 878, 879, 880, 882, 884, 885, 886, 888, 889, 890, 891, 892, 894, 895, 896, 897, 898, 900, 902, 903, 904, 905, 906, 908, 909, 910, 912, 914, 915, 916, 917, 918, 920, 921, 922, 924, 925, 926, 927, 928, 930, 931, 932, 933, 934, 935, 936, 938, 939, 940, 942, 944, 945, 946, 948, 950, 951, 952, 954, 955, 956, 957, 958, 959, 960, 962, 963, 964, 965, 966, 968, 969, 970, 972, 973, 974, 975, 976, 978, 980, 981, 982, 984, 985, 986, 987, 988, 990, 992, 993, 994, 995, 996, 998, 999, 1000]\n"
     ]
    }
   ],
   "source": [
    "# Código de solución estudiante 2\n",
    "lista = [n for n in np.arange(1,1001) if any (n % digits == 0 for digits in np.arange(2,10))]\n",
    "print(lista)\n"
   ]
  },
  {
   "cell_type": "code",
   "execution_count": null,
   "metadata": {},
   "outputs": [],
   "source": []
  }
 ],
 "metadata": {
  "kernelspec": {
   "display_name": "Python 3",
   "language": "python",
   "name": "python3"
  },
  "language_info": {
   "codemirror_mode": {
    "name": "ipython",
    "version": 3
   },
   "file_extension": ".py",
   "mimetype": "text/x-python",
   "name": "python",
   "nbconvert_exporter": "python",
   "pygments_lexer": "ipython3",
   "version": "3.8.8"
  }
 },
 "nbformat": 4,
 "nbformat_minor": 2
}
